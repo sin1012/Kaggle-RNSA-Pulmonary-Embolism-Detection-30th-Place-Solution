{
 "cells": [
  {
   "cell_type": "code",
   "execution_count": 1,
   "metadata": {
    "execution": {
     "iopub.execute_input": "2020-10-27T06:34:00.108686Z",
     "iopub.status.busy": "2020-10-27T06:34:00.107787Z",
     "iopub.status.idle": "2020-10-27T06:34:34.185525Z",
     "shell.execute_reply": "2020-10-27T06:34:34.186195Z"
    },
    "papermill": {
     "duration": 34.099578,
     "end_time": "2020-10-27T06:34:34.186391",
     "exception": false,
     "start_time": "2020-10-27T06:34:00.086813",
     "status": "completed"
    },
    "tags": []
   },
   "outputs": [
    {
     "name": "stdout",
     "output_type": "stream",
     "text": [
      "gdcm/\r\n",
      "gdcm/conda-4.8.4-py37hc8dfbb8_2.tar.bz2\r\n",
      "gdcm/gdcm-2.8.9-py37h71b2a6d_0.tar.bz2\r\n",
      "gdcm/libjpeg-turbo-2.0.3-h516909a_1.tar.bz2\r\n",
      "\r\n",
      "Downloading and Extracting Packages\r\n",
      "######################################################################## | 100% \r\n",
      "Preparing transaction: - \b\bdone\r\n",
      "Verifying transaction: | \b\b/ \b\bdone\r\n",
      "Executing transaction: \\ \b\bdone\r\n",
      "done\n"
     ]
    }
   ],
   "source": [
    "!cp ../input/rsna-sped-ds-utility/gdcm.tar .\n",
    "!tar -xvzf gdcm.tar\n",
    "!conda install --offline ./gdcm/gdcm-2.8.9-py37h71b2a6d_0.tar.bz2\n",
    "print(\"done\")"
   ]
  },
  {
   "cell_type": "code",
   "execution_count": 2,
   "metadata": {
    "_cell_guid": "79c7e3d0-c299-4dcb-8224-4455121ee9b0",
    "_uuid": "d629ff2d2480ee46fbb7e2d37f6b5fab8052498a",
    "execution": {
     "iopub.execute_input": "2020-10-27T06:34:34.218315Z",
     "iopub.status.busy": "2020-10-27T06:34:34.217592Z",
     "iopub.status.idle": "2020-10-27T06:34:34.221669Z",
     "shell.execute_reply": "2020-10-27T06:34:34.222453Z"
    },
    "papermill": {
     "duration": 0.022481,
     "end_time": "2020-10-27T06:34:34.222599",
     "exception": false,
     "start_time": "2020-10-27T06:34:34.200118",
     "status": "completed"
    },
    "tags": []
   },
   "outputs": [],
   "source": [
    "import os\n",
    "os.sys.path.append('../input/rsna-sped-ds-utility/')\n",
    "import gc\n",
    "import glob\n",
    "import math\n",
    "import numpy as np \n",
    "import pandas as pd "
   ]
  },
  {
   "cell_type": "code",
   "execution_count": 3,
   "metadata": {
    "execution": {
     "iopub.execute_input": "2020-10-27T06:34:34.255414Z",
     "iopub.status.busy": "2020-10-27T06:34:34.254726Z",
     "iopub.status.idle": "2020-10-27T06:34:34.418674Z",
     "shell.execute_reply": "2020-10-27T06:34:34.417783Z"
    },
    "papermill": {
     "duration": 0.18278,
     "end_time": "2020-10-27T06:34:34.418788",
     "exception": false,
     "start_time": "2020-10-27T06:34:34.236008",
     "status": "completed"
    },
    "tags": []
   },
   "outputs": [],
   "source": [
    "sub = pd.read_csv('../input/rsna-str-pulmonary-embolism-detection/sample_submission.csv', index_col=0)"
   ]
  },
  {
   "cell_type": "code",
   "execution_count": 4,
   "metadata": {
    "execution": {
     "iopub.execute_input": "2020-10-27T06:34:34.453425Z",
     "iopub.status.busy": "2020-10-27T06:34:34.452695Z",
     "iopub.status.idle": "2020-10-27T06:34:34.664613Z",
     "shell.execute_reply": "2020-10-27T06:34:34.663946Z"
    },
    "papermill": {
     "duration": 0.230714,
     "end_time": "2020-10-27T06:34:34.664779",
     "exception": false,
     "start_time": "2020-10-27T06:34:34.434065",
     "status": "completed"
    },
    "tags": []
   },
   "outputs": [],
   "source": [
    "test_df = pd.read_csv('../input/rsna-str-pulmonary-embolism-detection/test.csv', index_col=0)\n",
    "sids = list(set(test_df.index))"
   ]
  },
  {
   "cell_type": "code",
   "execution_count": 5,
   "metadata": {
    "_kg_hide-output": true,
    "execution": {
     "iopub.execute_input": "2020-10-27T06:34:34.698973Z",
     "iopub.status.busy": "2020-10-27T06:34:34.698195Z",
     "iopub.status.idle": "2020-10-27T06:34:34.701524Z",
     "shell.execute_reply": "2020-10-27T06:34:34.702075Z"
    },
    "papermill": {
     "duration": 0.024005,
     "end_time": "2020-10-27T06:34:34.702214",
     "exception": false,
     "start_time": "2020-10-27T06:34:34.678209",
     "status": "completed"
    },
    "tags": []
   },
   "outputs": [],
   "source": [
    "if len(sids) != 650:\n",
    "    !python ../input/rsna-sped-ds-final/rsna-sped-predict-1026.py\n",
    "    sub_tf = pd.read_csv('submission.csv', index_col=0)"
   ]
  },
  {
   "cell_type": "code",
   "execution_count": 6,
   "metadata": {
    "execution": {
     "iopub.execute_input": "2020-10-27T06:34:34.734856Z",
     "iopub.status.busy": "2020-10-27T06:34:34.733978Z",
     "iopub.status.idle": "2020-10-27T06:34:34.738065Z",
     "shell.execute_reply": "2020-10-27T06:34:34.737477Z"
    },
    "papermill": {
     "duration": 0.022689,
     "end_time": "2020-10-27T06:34:34.738173",
     "exception": false,
     "start_time": "2020-10-27T06:34:34.715484",
     "status": "completed"
    },
    "tags": []
   },
   "outputs": [],
   "source": [
    "if len(sids) != 650:\n",
    "    !python ../input/rsna-sped-ds-final/70_infer_45_tta_x5_py.py\n",
    "    sub_torch = pd.read_csv('submission.csv', index_col=0)"
   ]
  },
  {
   "cell_type": "markdown",
   "metadata": {
    "papermill": {
     "duration": 0.013955,
     "end_time": "2020-10-27T06:34:34.766111",
     "exception": false,
     "start_time": "2020-10-27T06:34:34.752156",
     "status": "completed"
    },
    "tags": []
   },
   "source": [
    "# TODO Add ensemble weights"
   ]
  },
  {
   "cell_type": "code",
   "execution_count": 7,
   "metadata": {
    "execution": {
     "iopub.execute_input": "2020-10-27T06:34:34.803074Z",
     "iopub.status.busy": "2020-10-27T06:34:34.801034Z",
     "iopub.status.idle": "2020-10-27T06:34:34.803835Z",
     "shell.execute_reply": "2020-10-27T06:34:34.804372Z"
    },
    "papermill": {
     "duration": 0.024526,
     "end_time": "2020-10-27T06:34:34.804492",
     "exception": false,
     "start_time": "2020-10-27T06:34:34.779966",
     "status": "completed"
    },
    "tags": []
   },
   "outputs": [],
   "source": [
    "if len(sids) != 650:\n",
    "    exam_index = sub[sub.index.str.len() > 12].index\n",
    "    image_index = sub[sub.index.str.len() == 12].index\n",
    "    sub.loc[exam_index, 'label'] = sub_tf.loc[exam_index, 'label'] #* 0.9 + sub_torch.loc[exam_index, 'label'] * 0.1\n",
    "    sub.loc[image_index, 'label'] = sub_tf.loc[image_index, 'label'] * 0.6 + sub_torch.loc[image_index, 'label'] * 0.4"
   ]
  },
  {
   "cell_type": "markdown",
   "metadata": {
    "papermill": {
     "duration": 0.013301,
     "end_time": "2020-10-27T06:34:34.830952",
     "exception": false,
     "start_time": "2020-10-27T06:34:34.817651",
     "status": "completed"
    },
    "tags": []
   },
   "source": [
    "# TODO Add rule-based post processing here"
   ]
  },
  {
   "cell_type": "code",
   "execution_count": 8,
   "metadata": {
    "execution": {
     "iopub.execute_input": "2020-10-27T06:34:34.862452Z",
     "iopub.status.busy": "2020-10-27T06:34:34.861731Z",
     "iopub.status.idle": "2020-10-27T06:34:35.560774Z",
     "shell.execute_reply": "2020-10-27T06:34:35.559490Z"
    },
    "papermill": {
     "duration": 0.716492,
     "end_time": "2020-10-27T06:34:35.560904",
     "exception": false,
     "start_time": "2020-10-27T06:34:34.844412",
     "status": "completed"
    },
    "tags": []
   },
   "outputs": [],
   "source": [
    "sub.to_csv('submission.csv')"
   ]
  },
  {
   "cell_type": "code",
   "execution_count": 9,
   "metadata": {
    "execution": {
     "iopub.execute_input": "2020-10-27T06:34:35.604499Z",
     "iopub.status.busy": "2020-10-27T06:34:35.603345Z",
     "iopub.status.idle": "2020-10-27T06:34:35.613322Z",
     "shell.execute_reply": "2020-10-27T06:34:35.613917Z"
    },
    "papermill": {
     "duration": 0.038934,
     "end_time": "2020-10-27T06:34:35.614082",
     "exception": false,
     "start_time": "2020-10-27T06:34:35.575148",
     "status": "completed"
    },
    "tags": []
   },
   "outputs": [
    {
     "data": {
      "text/html": [
       "<div>\n",
       "<style scoped>\n",
       "    .dataframe tbody tr th:only-of-type {\n",
       "        vertical-align: middle;\n",
       "    }\n",
       "\n",
       "    .dataframe tbody tr th {\n",
       "        vertical-align: top;\n",
       "    }\n",
       "\n",
       "    .dataframe thead th {\n",
       "        text-align: right;\n",
       "    }\n",
       "</style>\n",
       "<table border=\"1\" class=\"dataframe\">\n",
       "  <thead>\n",
       "    <tr style=\"text-align: right;\">\n",
       "      <th></th>\n",
       "      <th>label</th>\n",
       "    </tr>\n",
       "    <tr>\n",
       "      <th>id</th>\n",
       "      <th></th>\n",
       "    </tr>\n",
       "  </thead>\n",
       "  <tbody>\n",
       "    <tr>\n",
       "      <th>df06fad17bc3_negative_exam_for_pe</th>\n",
       "      <td>0.5</td>\n",
       "    </tr>\n",
       "    <tr>\n",
       "      <th>c8039e7f9e63_negative_exam_for_pe</th>\n",
       "      <td>0.5</td>\n",
       "    </tr>\n",
       "    <tr>\n",
       "      <th>761f6f1a9f5b_negative_exam_for_pe</th>\n",
       "      <td>0.5</td>\n",
       "    </tr>\n",
       "    <tr>\n",
       "      <th>c8db5b1f6b56_negative_exam_for_pe</th>\n",
       "      <td>0.5</td>\n",
       "    </tr>\n",
       "    <tr>\n",
       "      <th>462e805da1f1_negative_exam_for_pe</th>\n",
       "      <td>0.5</td>\n",
       "    </tr>\n",
       "    <tr>\n",
       "      <th>...</th>\n",
       "      <td>...</td>\n",
       "    </tr>\n",
       "    <tr>\n",
       "      <th>5f34e0c61c00</th>\n",
       "      <td>0.5</td>\n",
       "    </tr>\n",
       "    <tr>\n",
       "      <th>ccaa309b60da</th>\n",
       "      <td>0.5</td>\n",
       "    </tr>\n",
       "    <tr>\n",
       "      <th>a274c8d0916e</th>\n",
       "      <td>0.5</td>\n",
       "    </tr>\n",
       "    <tr>\n",
       "      <th>a702de2c99c6</th>\n",
       "      <td>0.5</td>\n",
       "    </tr>\n",
       "    <tr>\n",
       "      <th>41cb110f177e</th>\n",
       "      <td>0.5</td>\n",
       "    </tr>\n",
       "  </tbody>\n",
       "</table>\n",
       "<p>152703 rows × 1 columns</p>\n",
       "</div>"
      ],
      "text/plain": [
       "                                   label\n",
       "id                                      \n",
       "df06fad17bc3_negative_exam_for_pe    0.5\n",
       "c8039e7f9e63_negative_exam_for_pe    0.5\n",
       "761f6f1a9f5b_negative_exam_for_pe    0.5\n",
       "c8db5b1f6b56_negative_exam_for_pe    0.5\n",
       "462e805da1f1_negative_exam_for_pe    0.5\n",
       "...                                  ...\n",
       "5f34e0c61c00                         0.5\n",
       "ccaa309b60da                         0.5\n",
       "a274c8d0916e                         0.5\n",
       "a702de2c99c6                         0.5\n",
       "41cb110f177e                         0.5\n",
       "\n",
       "[152703 rows x 1 columns]"
      ]
     },
     "execution_count": 9,
     "metadata": {},
     "output_type": "execute_result"
    }
   ],
   "source": [
    "sub"
   ]
  }
 ],
 "metadata": {
  "kernelspec": {
   "display_name": "Python 3",
   "language": "python",
   "name": "python3"
  },
  "language_info": {
   "codemirror_mode": {
    "name": "ipython",
    "version": 3
   },
   "file_extension": ".py",
   "mimetype": "text/x-python",
   "name": "python",
   "nbconvert_exporter": "python",
   "pygments_lexer": "ipython3",
   "version": "3.7.6"
  },
  "papermill": {
   "duration": 40.368158,
   "end_time": "2020-10-27T06:34:35.741985",
   "environment_variables": {},
   "exception": null,
   "input_path": "__notebook__.ipynb",
   "output_path": "__notebook__.ipynb",
   "parameters": {},
   "start_time": "2020-10-27T06:33:55.373827",
   "version": "2.1.0"
  }
 },
 "nbformat": 4,
 "nbformat_minor": 4
}
